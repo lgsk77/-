{
 "cells": [
  {
   "cell_type": "code",
   "execution_count": 9,
   "metadata": {},
   "outputs": [],
   "source": [
    "import json \n",
    "import urllib.request\n",
    "from urllib import parse\n",
    "from lxml import etree\n",
    "\n",
    "import sqlalchemy\n",
    "from sqlalchemy import create_engine, Integer, String, ForeignKey, MetaData, Text, Column, Date\n",
    "from sqlalchemy.ext.declarative import declarative_base\n",
    "from sqlalchemy.orm import sessionmaker"
   ]
  },
  {
   "cell_type": "code",
   "execution_count": 10,
   "metadata": {},
   "outputs": [],
   "source": [
    "url = \"http://kipo-api.kipi.or.kr/openapi/service/trademarkInfoSearchService/getAdvancedSearch?application=true&registration=true&refused=true&expiration=true&withdrawal=true&publication=true&cancel=true&abandonment=true&trademark=true&serviceMark=true&trademarkServiceMark=true&businessEmblem=true&collectiveMark=true&internationalMark=true&character=true&figure=true&compositionCharacter=true&figureComposition=true&freeSearch=?&ServiceKey=SbSvsMbb1IC21z3j8aPLAbHu%2Ff7CBZhA8WpulwUWOmzyThkPoM75Pg2CLYki4McA3AMslp8MtrJaVKVB1EOXRA%3D%3D&numOfRows=5000\""
   ]
  },
  {
   "cell_type": "code",
   "execution_count": 11,
   "metadata": {},
   "outputs": [],
   "source": [
    "engine = create_engine(\"sqlite:///project2.db\", echo = False)\n",
    "base = declarative_base()\n",
    "Session  = sessionmaker(bind=engine)\n",
    "session = Session()\n",
    "\n",
    "#스키마 선언\n",
    "class Item(base):\n",
    "    __tablename__ = \"Item\"\n",
    "    __table_args__= {'extend_existing': True} \n",
    "    id = Column(Integer, primary_key = True)\n",
    "    agentName = Column(String)\n",
    "    appReferenceNumber = Column(String)\n",
    "    applicantName = Column(Text)\n",
    "    applicationDate = Column(String)\n",
    "    applicationNumber = Column(String)\n",
    "    applicationStatus = Column(String)\n",
    "    bigDrawing = Column(String)\n",
    "    classificationCode = Column(String)\n",
    "    drawing = Column(String)\n",
    "    fullText = Column(String)\n",
    "    indexNo = Column(Integer)\n",
    "    internationalRegisterDate = Column(String)\n",
    "    internationalRegisterNumber = Column(String)\n",
    "    priorityDate = Column(String)\n",
    "    priorityNumber = Column(String)\n",
    "    publicationDate = Column(String)\n",
    "    publicationNumber = Column(String)\n",
    "    regPrivilegeName = Column(String)\n",
    "    regReferenceNumber = Column(String)\n",
    "    registrationDate = Column(String)\n",
    "    registrationNumber = Column(String)\n",
    "    registrationPublicDate = Column(String)\n",
    "    registrationPublicNumber = Column(String)\n",
    "    title = Column(Text)\n",
    "    viennaCode = Column(String)\n",
    "\n",
    "base.metadata.create_all(engine)"
   ]
  },
  {
   "cell_type": "code",
   "execution_count": 12,
   "metadata": {},
   "outputs": [],
   "source": [
    "def crawling(start_page=0,end_page=100):\n",
    "    # range 범위로 몇페이지까지 할껀지 설정\n",
    "    for i in range(start_page,end_page):\n",
    "        f = open(\"log/log\"+str(i),\"w\",encoding=\"utf-8\") # 간단하게 로그 남기려고 맨듬\n",
    "        parser = etree.XMLParser(encoding='utf-8' ,recover=True) # 파서 추가 \n",
    "        new_url = url+\"&pageNo=\"+str(i)\n",
    "        req = urllib.request.Request(new_url)\n",
    "        res = urllib.request.urlopen(req)\n",
    "        resResult = res.read()\n",
    "        xml = etree.fromstring(resResult,parser = parser) # 파서 적용\n",
    "        xmlTree = etree.ElementTree(xml)\n",
    "        root = xmlTree.getroot()\n",
    "        items = root.findall(\".//item\")\n",
    "        num = 0\n",
    "        for item in items:\n",
    "            new_item = Item(\n",
    "                agentName = item[0].text,\n",
    "                appReferenceNumber = item[1].text,\n",
    "                applicantName = item[2].text,\n",
    "                applicationDate = item[3].text,\n",
    "                applicationNumber = item[4].text,\n",
    "                applicationStatus = item[5].text,\n",
    "                bigDrawing = item[6].text,\n",
    "                classificationCode = item[7].text,\n",
    "                drawing = item[8].text,\n",
    "                fullText = item[9].text,\n",
    "                indexNo = item[10].text,\n",
    "                internationalRegisterDate = item[11].text,\n",
    "                internationalRegisterNumber = item[12].text,\n",
    "                priorityDate = item[13].text,\n",
    "                priorityNumber = item[14].text,\n",
    "                publicationDate = item[15].text,\n",
    "                publicationNumber = item[16].text,\n",
    "                regPrivilegeName = item[17].text,\n",
    "                regReferenceNumber = item[18].text,\n",
    "                registrationDate = item[19].text,\n",
    "                registrationNumber = item[20].text,\n",
    "                registrationPublicDate = item[21].text,\n",
    "                registrationPublicNumber = item[22].text,\n",
    "                title = item[23].text,\n",
    "                viennaCode = item[24].text\n",
    "            )\n",
    "            f.write(str(num)+\" \"+item[4].text+\"sucess \\n\")\n",
    "            session.add(new_item)\n",
    "            num+=1\n",
    "        session.commit()\n",
    "        f.close()"
   ]
  },
  {
   "cell_type": "code",
   "execution_count": 13,
   "metadata": {
    "scrolled": true
   },
   "outputs": [],
   "source": [
    "crawling(0,1)"
   ]
  },
  {
   "cell_type": "code",
   "execution_count": null,
   "metadata": {},
   "outputs": [],
   "source": []
  }
 ],
 "metadata": {
  "kernelspec": {
   "display_name": "Python 3",
   "language": "python",
   "name": "python3"
  },
  "language_info": {
   "codemirror_mode": {
    "name": "ipython",
    "version": 3
   },
   "file_extension": ".py",
   "mimetype": "text/x-python",
   "name": "python",
   "nbconvert_exporter": "python",
   "pygments_lexer": "ipython3",
   "version": "3.6.5"
  }
 },
 "nbformat": 4,
 "nbformat_minor": 2
}
